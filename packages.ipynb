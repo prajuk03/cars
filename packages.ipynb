{
 "cells": [
  {
   "cell_type": "code",
   "execution_count": 2,
   "id": "85de7be9",
   "metadata": {},
   "outputs": [],
   "source": [
    "from cars_package import audi"
   ]
  },
  {
   "cell_type": "code",
   "execution_count": 5,
   "id": "87960f64",
   "metadata": {},
   "outputs": [],
   "source": [
    "from cars_package import bmw\n",
    "from cars_package import audi\n",
    "from cars_package import nissan\n",
    "\n"
   ]
  },
  {
   "cell_type": "code",
   "execution_count": 7,
   "id": "9033dd94",
   "metadata": {},
   "outputs": [
    {
     "name": "stdout",
     "output_type": "stream",
     "text": [
      "These are the available models for bmw\n",
      "\ti8 \n",
      "\tx1 \n",
      "\tx5 \n",
      "\tx6 \n"
     ]
    }
   ],
   "source": [
    "# Create an object of Bmw class & call its method\n",
    "ModBMW = bmw.bmw()\n",
    "ModBMW.outModels()"
   ]
  },
  {
   "cell_type": "code",
   "execution_count": 8,
   "id": "c0dd4a08",
   "metadata": {},
   "outputs": [
    {
     "name": "stdout",
     "output_type": "stream",
     "text": [
      "These are the available models for audi\n",
      "\tq7 \n",
      "\ta6 \n",
      "\ta8 \n",
      "\ta3 \n",
      "These are the available models for nissan\n",
      "t\\altima\n",
      "t\\370z\n",
      "t\\cube\n",
      "t\\rogue\n"
     ]
    }
   ],
   "source": [
    "# Create an object of Audi class & call its method\n",
    "ModAudi = audi.audi()\n",
    "ModAudi.outModels()\n",
    "  \n",
    "# Create an object of Nissan class & call its method\n",
    "ModNissan = nissan.nissan()\n",
    "ModNissan.outModels()"
   ]
  },
  {
   "cell_type": "code",
   "execution_count": null,
   "id": "ab1f44a8",
   "metadata": {},
   "outputs": [],
   "source": []
  }
 ],
 "metadata": {
  "kernelspec": {
   "display_name": "Python 3 (ipykernel)",
   "language": "python",
   "name": "python3"
  },
  "language_info": {
   "codemirror_mode": {
    "name": "ipython",
    "version": 3
   },
   "file_extension": ".py",
   "mimetype": "text/x-python",
   "name": "python",
   "nbconvert_exporter": "python",
   "pygments_lexer": "ipython3",
   "version": "3.9.12"
  }
 },
 "nbformat": 4,
 "nbformat_minor": 5
}
